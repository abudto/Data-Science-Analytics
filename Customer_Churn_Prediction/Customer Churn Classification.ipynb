{
 "cells": [
  {
   "cell_type": "markdown",
   "metadata": {},
   "source": [
    "# CUSTOMER CHURN PREDICTION"
   ]
  },
  {
   "cell_type": "markdown",
   "metadata": {
    "id": "zsKfXVpudpMr"
   },
   "source": [
    "# 1. Import relevant libraries"
   ]
  },
  {
   "cell_type": "code",
   "execution_count": 1,
   "metadata": {
    "id": "3DEW9hVWo6iV"
   },
   "outputs": [],
   "source": [
    "# Step 1: Import relevant libraries---------------------------------------------------------\n",
    "\n",
    "#Standard libraries for data analysis:----------------------\n",
    "\n",
    "import numpy as np\n",
    "import matplotlib.pyplot as plt\n",
    "import pandas as pd\n",
    "from scipy.stats import norm, skew\n",
    "from scipy import stats\n",
    "import statsmodels.api as sm\n",
    "from sklearn.preprocessing import LabelEncoder, OneHotEncoder\n",
    "from sklearn.model_selection import train_test_split\n",
    "from sklearn.preprocessing import StandardScaler\n",
    "from sklearn.linear_model import LogisticRegression\n",
    "from sklearn.tree import DecisionTreeClassifier\n",
    "from sklearn.ensemble import RandomForestClassifier\n",
    "import os\n",
    "import re\n",
    "\n",
    "\n",
    "# sklearn modules for data preprocessing-------------------------------------\n",
    "\n",
    "from sklearn.impute import SimpleImputer\n",
    "from sklearn.preprocessing import LabelEncoder, OneHotEncoder\n",
    "from sklearn.compose import ColumnTransformer\n",
    "from sklearn.preprocessing import OneHotEncoder\n",
    "from sklearn.model_selection import train_test_split\n",
    "from sklearn.preprocessing import StandardScaler\n",
    "\n",
    "\n",
    "#sklearn modules for Model Selection--------------------------------------\n",
    "\n",
    "from sklearn import svm, tree, linear_model, neighbors\n",
    "from sklearn import naive_bayes, ensemble, discriminant_analysis, gaussian_process\n",
    "from sklearn.neighbors import KNeighborsClassifier\n",
    "from sklearn.discriminant_analysis import LinearDiscriminantAnalysis\n",
    "from xgboost import XGBClassifier\n",
    "\n",
    "from sklearn.linear_model import LogisticRegression\n",
    "from sklearn.svm import SVC\n",
    "from sklearn.neighbors import KNeighborsClassifier\n",
    "from sklearn.naive_bayes import GaussianNB\n",
    "from sklearn.tree import DecisionTreeClassifier\n",
    "from sklearn.ensemble import RandomForestClassifier\n",
    "\n",
    "\n",
    "#sklearn modules for Model Evaluation & Improvement---------------------------\n",
    "\n",
    "from sklearn.metrics import confusion_matrix, accuracy_score\n",
    "from sklearn.metrics import f1_score, precision_score, recall_score, fbeta_score\n",
    "from statsmodels.stats.outliers_influence import variance_inflation_factor\n",
    "from sklearn.model_selection import cross_val_score\n",
    "from sklearn.model_selection import GridSearchCV\n",
    "\n",
    "from sklearn.model_selection import ShuffleSplit\n",
    "from sklearn.model_selection import KFold\n",
    "\n",
    "from sklearn import feature_selection\n",
    "from sklearn import model_selection\n",
    "from sklearn import metrics\n",
    "\n",
    "from sklearn.metrics import classification_report, precision_recall_curve\n",
    "from sklearn.metrics import auc, roc_auc_score, roc_curve\n",
    "from sklearn.metrics import make_scorer, recall_score, log_loss\n",
    "from sklearn.metrics import average_precision_score\n",
    "\n",
    "\n",
    "#Standard libraries for data visualization---------------------\n",
    "\n",
    "import seaborn as sn\n",
    "from matplotlib import pyplot\n",
    "import matplotlib.pyplot as plt\n",
    "import matplotlib.pylab as pylab\n",
    "import matplotlib\n",
    "%matplotlib inline\n",
    "color = sn.color_palette()\n",
    "import matplotlib.ticker as mtick\n",
    "from IPython.display import display\n",
    "pd.options.display.max_columns = None\n",
    "from pandas.plotting import scatter_matrix\n",
    "from sklearn.metrics import roc_curve\n",
    "\n",
    "\n",
    "#Miscellaneous Utilitiy Libraries--------------------------------------\n",
    "\n",
    "import random\n",
    "import os\n",
    "import re\n",
    "import sys\n",
    "import timeit\n",
    "import string\n",
    "import time\n",
    "from datetime import datetime\n",
    "from time import time\n",
    "from dateutil.parser import parse\n",
    "import joblib"
   ]
  },
  {
   "cell_type": "markdown",
   "metadata": {
    "id": "cxs45QVTdvcV"
   },
   "source": [
    "# 2. Set Up the current working directory & Import Dataset"
   ]
  },
  {
   "cell_type": "code",
   "execution_count": 2,
   "metadata": {
    "colab": {
     "base_uri": "https://localhost:8080/",
     "height": 73
    },
    "executionInfo": {
     "elapsed": 16069,
     "status": "ok",
     "timestamp": 1692720074328,
     "user": {
      "displayName": "Achmad Budi Utomo",
      "userId": "03097595209187156798"
     },
     "user_tz": -420
    },
    "id": "peZCDERrpKld",
    "outputId": "6c8e48d3-6341-4b6b-920a-510047baca96"
   },
   "outputs": [],
   "source": [
    "# Step 2: Set up the current working directory from local computer\n",
    "from google.colab import files\n",
    "Ufile = files.upload()"
   ]
  },
  {
   "cell_type": "code",
   "execution_count": null,
   "metadata": {
    "id": "RVnoTkES3BMU"
   },
   "outputs": [],
   "source": [
    "# Step 2: Import the dataset\n",
    "dataset = pd.read_csv('ds_project4_customer_churn_data.csv')"
   ]
  },
  {
   "cell_type": "markdown",
   "metadata": {
    "id": "bLtrkCeuepPg"
   },
   "source": [
    "## 3. Evaluate Data Structure"
   ]
  },
  {
   "cell_type": "code",
   "execution_count": null,
   "metadata": {
    "colab": {
     "base_uri": "https://localhost:8080/",
     "height": 617
    },
    "executionInfo": {
     "elapsed": 5,
     "status": "ok",
     "timestamp": 1692720075196,
     "user": {
      "displayName": "Achmad Budi Utomo",
      "userId": "03097595209187156798"
     },
     "user_tz": -420
    },
    "id": "Ho7nk3q2q0op",
    "outputId": "483c1fe4-8293-4e16-cfa7-0221531a0848"
   },
   "outputs": [],
   "source": [
    "# Step 3: Evaluate data structure\n",
    "dataset"
   ]
  },
  {
   "cell_type": "code",
   "execution_count": null,
   "metadata": {
    "colab": {
     "base_uri": "https://localhost:8080/",
     "height": 313
    },
    "executionInfo": {
     "elapsed": 341,
     "status": "ok",
     "timestamp": 1692720080180,
     "user": {
      "displayName": "Achmad Budi Utomo",
      "userId": "03097595209187156798"
     },
     "user_tz": -420
    },
    "id": "8FL8uKxw2e7Q",
    "outputId": "81b44869-b8b9-4b9c-bfaa-92dd88a5df12"
   },
   "outputs": [],
   "source": [
    "dataset.tail()"
   ]
  },
  {
   "cell_type": "code",
   "execution_count": null,
   "metadata": {
    "colab": {
     "base_uri": "https://localhost:8080/"
    },
    "executionInfo": {
     "elapsed": 731,
     "status": "ok",
     "timestamp": 1692720084168,
     "user": {
      "displayName": "Achmad Budi Utomo",
      "userId": "03097595209187156798"
     },
     "user_tz": -420
    },
    "id": "lmPa2OIUq6AZ",
    "outputId": "dff6a719-9195-41cd-ac17-97bef5896c8f"
   },
   "outputs": [],
   "source": [
    "dataset.columns"
   ]
  },
  {
   "cell_type": "code",
   "execution_count": null,
   "metadata": {
    "colab": {
     "base_uri": "https://localhost:8080/",
     "height": 300
    },
    "executionInfo": {
     "elapsed": 4,
     "status": "ok",
     "timestamp": 1692720084168,
     "user": {
      "displayName": "Achmad Budi Utomo",
      "userId": "03097595209187156798"
     },
     "user_tz": -420
    },
    "id": "AwDT2Qq3q6WY",
    "outputId": "6d6b517a-9128-442d-fd22-feb2c943523c"
   },
   "outputs": [],
   "source": [
    "dataset.describe()"
   ]
  },
  {
   "cell_type": "code",
   "execution_count": null,
   "metadata": {
    "colab": {
     "base_uri": "https://localhost:8080/"
    },
    "executionInfo": {
     "elapsed": 4,
     "status": "ok",
     "timestamp": 1692720084690,
     "user": {
      "displayName": "Achmad Budi Utomo",
      "userId": "03097595209187156798"
     },
     "user_tz": -420
    },
    "id": "EWvkpdsoq7bR",
    "outputId": "da9cd262-2ea3-429e-add4-598971b46805"
   },
   "outputs": [],
   "source": [
    "dataset.dtypes"
   ]
  },
  {
   "cell_type": "code",
   "execution_count": null,
   "metadata": {
    "colab": {
     "base_uri": "https://localhost:8080/"
    },
    "executionInfo": {
     "elapsed": 2,
     "status": "ok",
     "timestamp": 1692720085465,
     "user": {
      "displayName": "Achmad Budi Utomo",
      "userId": "03097595209187156798"
     },
     "user_tz": -420
    },
    "id": "6wyXkVheq86h",
    "outputId": "186cbf6b-8736-4f35-9458-78db9b426f31"
   },
   "outputs": [],
   "source": [
    "#Recheck Column Datatypes and Missing Values:\n",
    "\n",
    "dataset.columns.to_series().groupby(dataset.dtypes).groups"
   ]
  },
  {
   "cell_type": "code",
   "execution_count": null,
   "metadata": {
    "colab": {
     "base_uri": "https://localhost:8080/"
    },
    "executionInfo": {
     "elapsed": 4,
     "status": "ok",
     "timestamp": 1692720086169,
     "user": {
      "displayName": "Achmad Budi Utomo",
      "userId": "03097595209187156798"
     },
     "user_tz": -420
    },
    "id": "DBJE2_MQrA50",
    "outputId": "d139cb7e-a2f9-49a8-9c21-78b44d6f6399"
   },
   "outputs": [],
   "source": [
    "dataset.info()"
   ]
  },
  {
   "cell_type": "code",
   "execution_count": null,
   "metadata": {
    "colab": {
     "base_uri": "https://localhost:8080/"
    },
    "executionInfo": {
     "elapsed": 419,
     "status": "ok",
     "timestamp": 1692720087585,
     "user": {
      "displayName": "Achmad Budi Utomo",
      "userId": "03097595209187156798"
     },
     "user_tz": -420
    },
    "id": "HtrAuROPrGw9",
    "outputId": "8c974f95-f3c7-41fa-b7a9-bd822636409a"
   },
   "outputs": [],
   "source": [
    "dataset.isna().any()"
   ]
  },
  {
   "cell_type": "code",
   "execution_count": null,
   "metadata": {
    "colab": {
     "base_uri": "https://localhost:8080/"
    },
    "executionInfo": {
     "elapsed": 1,
     "status": "ok",
     "timestamp": 1692720088628,
     "user": {
      "displayName": "Achmad Budi Utomo",
      "userId": "03097595209187156798"
     },
     "user_tz": -420
    },
    "id": "KzMqpzqcrJIR",
    "outputId": "d93f1abc-4153-46ad-bb37-6f8516121317"
   },
   "outputs": [],
   "source": [
    "#Unique values in each categorical variable:\n",
    "\n",
    "dataset[\"PaymentMethod\"].unique()"
   ]
  },
  {
   "cell_type": "code",
   "execution_count": null,
   "metadata": {
    "colab": {
     "base_uri": "https://localhost:8080/"
    },
    "executionInfo": {
     "elapsed": 2,
     "status": "ok",
     "timestamp": 1692720089339,
     "user": {
      "displayName": "Achmad Budi Utomo",
      "userId": "03097595209187156798"
     },
     "user_tz": -420
    },
    "id": "clLZE3nrrKyU",
    "outputId": "468b8be3-b2a9-4a46-c5cc-bbf81d94a5cd"
   },
   "outputs": [],
   "source": [
    "#dataset[\"Contract\"].nunique()\n",
    "\n",
    "dataset[\"Contract\"].unique()"
   ]
  },
  {
   "cell_type": "markdown",
   "metadata": {
    "id": "ddSNZ-4bg6nz"
   },
   "source": [
    "# 4. Check Target Variable Distribution"
   ]
  },
  {
   "cell_type": "code",
   "execution_count": null,
   "metadata": {
    "colab": {
     "base_uri": "https://localhost:8080/"
    },
    "executionInfo": {
     "elapsed": 2,
     "status": "ok",
     "timestamp": 1692720090606,
     "user": {
      "displayName": "Achmad Budi Utomo",
      "userId": "03097595209187156798"
     },
     "user_tz": -420
    },
    "id": "wLRAQ5XQrM9x",
    "outputId": "c6234e5a-1877-49f3-cdc1-a4d00cf10276"
   },
   "outputs": [],
   "source": [
    "#Step 4: Check Target Variable Distribution -----------------------------------------------\n",
    "\n",
    "dataset[\"Churn\"].value_counts()\n",
    "\n",
    "\n",
    "# ======================================================================================================\n",
    "#In this case, we have class imbalance with few negatives. In our business challenge,\n",
    "#false negatives are costly. Hence let's keep an eye onto the Precision, Recall & F2 score besides accuracy\n",
    "# ======================================================================================================"
   ]
  },
  {
   "cell_type": "markdown",
   "metadata": {
    "id": "cuXZGO-hjE69"
   },
   "source": [
    "# 5. Clean the Dataset"
   ]
  },
  {
   "cell_type": "code",
   "execution_count": null,
   "metadata": {
    "id": "2Md_c1JUrPcE"
   },
   "outputs": [],
   "source": [
    "#Step 5: Clean the Dataset----------------------------------------------------------------------\n",
    "\n",
    "dataset['TotalCharges'] = pd.to_numeric(dataset['TotalCharges'],errors='coerce')\n",
    "\n",
    "dataset['TotalCharges'] = dataset['TotalCharges'].astype(\"float\")"
   ]
  },
  {
   "cell_type": "code",
   "execution_count": null,
   "metadata": {
    "colab": {
     "base_uri": "https://localhost:8080/"
    },
    "executionInfo": {
     "elapsed": 413,
     "status": "ok",
     "timestamp": 1692720094641,
     "user": {
      "displayName": "Achmad Budi Utomo",
      "userId": "03097595209187156798"
     },
     "user_tz": -420
    },
    "id": "QrB32_T7rk6g",
    "outputId": "6c7d3d5c-cfeb-429d-c90b-35b2ec64728f"
   },
   "outputs": [],
   "source": [
    "#Step 5: Take care of missing data---------------------------------------------------------------\n",
    "\n",
    "dataset.info()"
   ]
  },
  {
   "cell_type": "code",
   "execution_count": null,
   "metadata": {
    "colab": {
     "base_uri": "https://localhost:8080/"
    },
    "executionInfo": {
     "elapsed": 2,
     "status": "ok",
     "timestamp": 1692720097616,
     "user": {
      "displayName": "Achmad Budi Utomo",
      "userId": "03097595209187156798"
     },
     "user_tz": -420
    },
    "id": "mMPHQZRPrWLI",
    "outputId": "db1b55f4-66f2-49cf-8e7d-584152a07bda"
   },
   "outputs": [],
   "source": [
    "dataset.isna().any()"
   ]
  },
  {
   "cell_type": "code",
   "execution_count": null,
   "metadata": {
    "id": "H7qIrR2Mrma8"
   },
   "outputs": [],
   "source": [
    "# Find the average and fill missing values of each columns programmatically with mean value of the data set.\n",
    "\n",
    "na_cols = dataset.isna().any()\n",
    "\n",
    "na_cols = na_cols[na_cols == True].reset_index()\n",
    "\n",
    "na_cols = na_cols[\"index\"].tolist()\n",
    "\n",
    "for col in dataset.columns[1:]:\n",
    "     if col in na_cols:\n",
    "        if dataset[col].dtype != 'object':\n",
    "             dataset[col] =  dataset[col].fillna(dataset[col].mean()).round(0)"
   ]
  },
  {
   "cell_type": "code",
   "execution_count": null,
   "metadata": {
    "colab": {
     "base_uri": "https://localhost:8080/"
    },
    "executionInfo": {
     "elapsed": 327,
     "status": "ok",
     "timestamp": 1692720099751,
     "user": {
      "displayName": "Achmad Budi Utomo",
      "userId": "03097595209187156798"
     },
     "user_tz": -420
    },
    "id": "JVOWBBMuCBPs",
    "outputId": "cd9ac186-c544-4053-cb24-6a3e71da0f95"
   },
   "outputs": [],
   "source": [
    "dataset.isna().any()"
   ]
  },
  {
   "cell_type": "markdown",
   "metadata": {
    "id": "t6qZqXFUlenJ"
   },
   "source": [
    "# 6. Label Encode Binary data"
   ]
  },
  {
   "cell_type": "code",
   "execution_count": null,
   "metadata": {
    "colab": {
     "base_uri": "https://localhost:8080/"
    },
    "executionInfo": {
     "elapsed": 2,
     "status": "ok",
     "timestamp": 1692720103169,
     "user": {
      "displayName": "Achmad Budi Utomo",
      "userId": "03097595209187156798"
     },
     "user_tz": -420
    },
    "id": "SATouu37COQp",
    "outputId": "2a508708-37d9-4f8f-c86f-03067fff6072"
   },
   "outputs": [],
   "source": [
    "#Step 6: label Encode Binary data----------------------------------------------------------------\n",
    "\n",
    "#Create a label encoder object\n",
    "le = LabelEncoder()\n",
    "\n",
    "# Label Encoding will be used for columns with 2 or less unique values\n",
    "le_count = 0\n",
    "for col in dataset.columns[1:]:\n",
    "    if dataset[col].dtype == 'object':\n",
    "        if len(list(dataset[col].unique())) <= 2:\n",
    "            print(col)\n",
    "            le.fit(dataset[col])\n",
    "            dataset[col] = le.transform(dataset[col])\n",
    "            le_count += 1\n",
    "print('{} columns were label encoded.'.format(le_count))"
   ]
  },
  {
   "cell_type": "code",
   "execution_count": null,
   "metadata": {
    "colab": {
     "base_uri": "https://localhost:8080/",
     "height": 617
    },
    "executionInfo": {
     "elapsed": 398,
     "status": "ok",
     "timestamp": 1692720113939,
     "user": {
      "displayName": "Achmad Budi Utomo",
      "userId": "03097595209187156798"
     },
     "user_tz": -420
    },
    "id": "OoOcHhCz-wvv",
    "outputId": "8c536088-cdc2-4728-93c7-305eff4c750e"
   },
   "outputs": [],
   "source": [
    "dataset"
   ]
  },
  {
   "cell_type": "markdown",
   "metadata": {
    "id": "kkmIYh8BCmo1"
   },
   "source": [
    "# 7. Exploratory Data Analysis"
   ]
  },
  {
   "cell_type": "code",
   "execution_count": null,
   "metadata": {
    "colab": {
     "base_uri": "https://localhost:8080/",
     "height": 672
    },
    "executionInfo": {
     "elapsed": 2948,
     "status": "ok",
     "timestamp": 1692720153315,
     "user": {
      "displayName": "Achmad Budi Utomo",
      "userId": "03097595209187156798"
     },
     "user_tz": -420
    },
    "id": "OCcy9q2RCY5S",
    "outputId": "9f42d79a-f6f5-4353-9452-8da4c39372d8"
   },
   "outputs": [],
   "source": [
    "#Step 7: Exploratory Data Analysis----------------------------------------------------------------------\n",
    "\n",
    "#Step 7.1. Plot Histogram of numeric Columns--------------------------------------\n",
    "\n",
    "dataset2 = dataset[['gender', 'SeniorCitizen', 'Partner', 'Dependents',\n",
    "       'tenure', 'PhoneService', 'PaperlessBilling',\n",
    "        'MonthlyCharges', 'TotalCharges']]\n",
    "\n",
    "#Histogram:\n",
    "\n",
    "fig = plt.figure(figsize=(15, 12))\n",
    "plt.suptitle('Histograms of Numerical Columns\\n',horizontalalignment=\"center\",fontstyle = \"normal\", fontsize = 24, fontfamily = \"sans-serif\")\n",
    "for i in range(dataset2.shape[1]):\n",
    "    plt.subplot(6, 3, i + 1)\n",
    "    f = plt.gca()\n",
    "    f.set_title(dataset2.columns.values[i])\n",
    "\n",
    "    vals = np.size(dataset2.iloc[:, i].unique())\n",
    "    if vals >= 100:\n",
    "        vals = 100\n",
    "\n",
    "    plt.hist(dataset2.iloc[:, i], bins=vals, color = '#ec838a')\n",
    "plt.tight_layout(rect=[0, 0.03, 1, 0.95])"
   ]
  },
  {
   "cell_type": "code",
   "execution_count": null,
   "metadata": {
    "colab": {
     "base_uri": "https://localhost:8080/",
     "height": 715
    },
    "executionInfo": {
     "elapsed": 598,
     "status": "ok",
     "timestamp": 1692720155379,
     "user": {
      "displayName": "Achmad Budi Utomo",
      "userId": "03097595209187156798"
     },
     "user_tz": -420
    },
    "id": "7UxF-tU2C4Ck",
    "outputId": "796c50b0-a944-49eb-a79f-3bb1b88db81d"
   },
   "outputs": [],
   "source": [
    "#Step 7.2. Analyze distribution of Key Categorical Variables---------------------------------------------\n",
    "\n",
    "\n",
    "#(1) Distribution of Contract Type----------------------------------------------------------------------------------------\n",
    "\n",
    "contract_split = dataset[[ \"customerID\", \"Contract\"]]\n",
    "sectors = contract_split .groupby (\"Contract\")\n",
    "contract_split = pd.DataFrame(sectors[\"customerID\"].count())\n",
    "contract_split.rename(columns={'customerID':'No. of customers'}, inplace=True)\n",
    "\n",
    "\n",
    "ax =  contract_split[[\"No. of customers\"]].plot.bar(title = 'Customers by Contract Type', legend =True, table = False, grid = False,  subplots = False,  figsize =(12, 7), color ='#ec838a', fontsize = 15, stacked=False)\n",
    "\n",
    "plt.ylabel('No. of Customers\\n',horizontalalignment=\"center\",fontstyle = \"normal\", fontsize = \"large\", fontfamily = \"sans-serif\")\n",
    "plt.xlabel('\\n Contract Type',horizontalalignment=\"center\",fontstyle = \"normal\", fontsize = \"large\", fontfamily = \"sans-serif\")\n",
    "plt.title('Customers by Contract Type \\n',horizontalalignment=\"center\", fontstyle = \"normal\", fontsize = \"22\", fontfamily = \"sans-serif\")\n",
    "plt.legend(loc='upper right', fontsize = \"medium\")\n",
    "plt.xticks(rotation=0, horizontalalignment=\"center\")\n",
    "plt.yticks(rotation=0, horizontalalignment=\"right\")\n",
    "\n",
    "x_labels = np.array(contract_split[[\"No. of customers\"]])\n",
    "\n",
    "def add_value_labels(ax, spacing=5):\n",
    "    for rect in ax.patches:\n",
    "        y_value = rect.get_height()\n",
    "        x_value = rect.get_x() + rect.get_width() / 2\n",
    "        space = spacing\n",
    "        va = 'bottom'\n",
    "        if y_value < 0:\n",
    "            space *= -1\n",
    "            va = 'top'\n",
    "        label = \"{:.0f}\".format(y_value)\n",
    "        ax.annotate(\n",
    "            label,\n",
    "            (x_value, y_value),\n",
    "            xytext=(0, space),\n",
    "            textcoords=\"offset points\",\n",
    "            ha='center',\n",
    "            va=va)\n",
    "add_value_labels(ax)"
   ]
  },
  {
   "cell_type": "code",
   "execution_count": null,
   "metadata": {
    "colab": {
     "base_uri": "https://localhost:8080/",
     "height": 946
    },
    "executionInfo": {
     "elapsed": 484,
     "status": "ok",
     "timestamp": 1692720155861,
     "user": {
      "displayName": "Achmad Budi Utomo",
      "userId": "03097595209187156798"
     },
     "user_tz": -420
    },
    "id": "1-xw3YrnDG2U",
    "outputId": "69b381f3-cd24-47a3-cdb6-64605a909cf9"
   },
   "outputs": [],
   "source": [
    "#(2) Distribution of Payment Method Type---------------------------------------------------------------------------------------\n",
    "\n",
    "payment_method_split = dataset[[ \"customerID\", \"PaymentMethod\"]]\n",
    "sectors = payment_method_split  .groupby (\"PaymentMethod\")\n",
    "payment_method_split  = pd.DataFrame(sectors[\"customerID\"].count())\n",
    "payment_method_split.rename(columns={'customerID':'No. of customers'}, inplace=True)\n",
    "\n",
    "\n",
    "ax =  payment_method_split [[\"No. of customers\"]].plot.bar(title = 'Customers by Payment Method', legend =True, table = False, grid = False,  subplots = False,  figsize =(15, 10), color ='#ec838a', fontsize = 15, stacked=False)\n",
    "\n",
    "plt.ylabel('No. of Customers\\n',horizontalalignment=\"center\",fontstyle = \"normal\", fontsize = \"large\", fontfamily = \"sans-serif\")\n",
    "plt.xlabel('\\n Contract Type',horizontalalignment=\"center\",fontstyle = \"normal\", fontsize = \"large\", fontfamily = \"sans-serif\")\n",
    "plt.title('Customers by Payment Method \\n',horizontalalignment=\"center\", fontstyle = \"normal\", fontsize = \"22\", fontfamily = \"sans-serif\")\n",
    "plt.legend(loc='upper right', fontsize = \"medium\")\n",
    "plt.xticks(rotation=0, horizontalalignment=\"center\")\n",
    "plt.yticks(rotation=0, horizontalalignment=\"right\")\n",
    "\n",
    "x_labels = np.array(payment_method_split [[\"No. of customers\"]])\n",
    "\n",
    "def add_value_labels(ax, spacing=5):\n",
    "    for rect in ax.patches:\n",
    "        y_value = rect.get_height()\n",
    "        x_value = rect.get_x() + rect.get_width() / 2\n",
    "        space = spacing\n",
    "        va = 'bottom'\n",
    "        if y_value < 0:\n",
    "            space *= -1\n",
    "            va = 'top'\n",
    "        label = \"{:.0f}\".format(y_value)\n",
    "        ax.annotate(\n",
    "            label,\n",
    "            (x_value, y_value),\n",
    "            xytext=(0, space),\n",
    "            textcoords=\"offset points\",\n",
    "            ha='center',\n",
    "            va=va)\n",
    "add_value_labels(ax)"
   ]
  },
  {
   "cell_type": "code",
   "execution_count": null,
   "metadata": {
    "colab": {
     "base_uri": "https://localhost:8080/",
     "height": 1000
    },
    "executionInfo": {
     "elapsed": 2560,
     "status": "ok",
     "timestamp": 1692720158727,
     "user": {
      "displayName": "Achmad Budi Utomo",
      "userId": "03097595209187156798"
     },
     "user_tz": -420
    },
    "id": "Y-wYXBxPDI7o",
    "outputId": "14527799-e9ce-4513-bf79-e5aae97a6aaa"
   },
   "outputs": [],
   "source": [
    "#(3) Distribution of various Label Encoded Categorical Variables---------------------------------------------------------------------------------------\n",
    "\n",
    "services = ['PhoneService','MultipleLines','InternetService','OnlineSecurity',\n",
    "           'OnlineBackup','DeviceProtection','TechSupport','StreamingTV','StreamingMovies']\n",
    "\n",
    "fig, axes = plt.subplots(nrows = 3,ncols = 3,figsize = (15,12))\n",
    "for i, item in enumerate(services):\n",
    "    if i < 3:\n",
    "        ax = dataset[item].value_counts().plot(kind = 'bar',ax=axes[i,0],rot = 0, color ='#f3babc' )\n",
    "\n",
    "    elif i >=3 and i < 6:\n",
    "        ax = dataset[item].value_counts().plot(kind = 'bar',ax=axes[i-3,1],rot = 0,color ='#9b9c9a')\n",
    "\n",
    "    elif i < 9:\n",
    "        ax = dataset[item].value_counts().plot(kind = 'bar',ax=axes[i-6,2],rot = 0,color = '#ec838a')\n",
    "    ax.set_title(item)"
   ]
  },
  {
   "cell_type": "code",
   "execution_count": null,
   "metadata": {
    "colab": {
     "base_uri": "https://localhost:8080/",
     "height": 798
    },
    "executionInfo": {
     "elapsed": 8,
     "status": "ok",
     "timestamp": 1692720159528,
     "user": {
      "displayName": "Achmad Budi Utomo",
      "userId": "03097595209187156798"
     },
     "user_tz": -420
    },
    "id": "yrniizdvDQc9",
    "outputId": "8986e3de-6a2b-4b30-ad22-8109c5018984"
   },
   "outputs": [],
   "source": [
    "#Step 7.3: Analyze Churn Rate by Categorical variables:   -------------------------------------------------------------\n",
    "\n",
    "#(1) Overall Churn Rate------------------------------------------------------------------------------------------\n",
    "\n",
    "import matplotlib.ticker as mtick\n",
    "churn_rate = dataset[[\"Churn\", \"customerID\"]]\n",
    "churn_rate [\"churn_label\"] = pd.Series(np.where((churn_rate[\"Churn\"] == 0), \"No\", \"Yes\"))\n",
    "sectors = churn_rate .groupby (\"churn_label\")\n",
    "churn_rate = pd.DataFrame(sectors[\"customerID\"].count())\n",
    "churn_rate [\"Churn Rate\"] = (churn_rate [\"customerID\"] / sum(churn_rate [\"customerID\"]) )*100\n",
    "ax =  churn_rate[[\"Churn Rate\"]].plot.bar(title = 'Overall Churn Rate', legend =True, table = False, grid = False,  subplots = False,  figsize =(12, 7), color = '#ec838a', fontsize = 15, stacked=False, ylim =(0,100))\n",
    "\n",
    "plt.ylabel('Proportion of Customers',horizontalalignment=\"center\",fontstyle = \"normal\", fontsize = \"large\", fontfamily = \"sans-serif\")\n",
    "plt.xlabel('Churn',horizontalalignment=\"center\",fontstyle = \"normal\", fontsize = \"large\", fontfamily = \"sans-serif\")\n",
    "plt.title('Overall Churn Rate \\n',horizontalalignment=\"center\", fontstyle = \"normal\", fontsize = \"22\", fontfamily = \"sans-serif\")\n",
    "plt.legend(loc='upper right', fontsize = \"medium\")\n",
    "plt.xticks(rotation=0, horizontalalignment=\"center\")\n",
    "plt.yticks(rotation=0, horizontalalignment=\"right\")\n",
    "ax.yaxis.set_major_formatter(mtick.PercentFormatter())\n",
    "x_labels = np.array(churn_rate[[\"customerID\"]])\n",
    "\n",
    "def add_value_labels(ax, spacing=5):\n",
    "    for rect in ax.patches:\n",
    "        y_value = rect.get_height()\n",
    "        x_value = rect.get_x() + rect.get_width() / 2\n",
    "        space = spacing\n",
    "        va = 'bottom'\n",
    "        if y_value < 0:\n",
    "            space *= -1\n",
    "            va = 'top'\n",
    "\n",
    "        label = \"{:.1f}%\".format(y_value)\n",
    "        ax.annotate(\n",
    "            label,\n",
    "            (x_value, y_value),\n",
    "            xytext=(0, space),\n",
    "            textcoords=\"offset points\",\n",
    "            ha='center',\n",
    "            va=va)\n",
    "add_value_labels(ax)\n",
    "ax.autoscale(enable=False, axis='both', tight=False)"
   ]
  },
  {
   "cell_type": "code",
   "execution_count": null,
   "metadata": {
    "colab": {
     "base_uri": "https://localhost:8080/",
     "height": 709
    },
    "executionInfo": {
     "elapsed": 688,
     "status": "ok",
     "timestamp": 1692720160212,
     "user": {
      "displayName": "Achmad Budi Utomo",
      "userId": "03097595209187156798"
     },
     "user_tz": -420
    },
    "id": "FSXjt3NsDTD3",
    "outputId": "b30090e8-6649-421a-9b5f-e661ea49b274"
   },
   "outputs": [],
   "source": [
    "import matplotlib.ticker as mtick\n",
    "\n",
    "contract_churn = dataset.groupby(['Contract','Churn']).size().unstack()\n",
    "\n",
    "contract_churn.rename(columns={0:'No', 1:'Yes'}, inplace=True)\n",
    "\n",
    "colors  = ['#ec838a','#9b9c9a']\n",
    "\n",
    "ax = (contract_churn.T*100.0 / contract_churn.T.sum()).T.plot(kind='bar',\n",
    "                                                                width = 0.3,\n",
    "                                                                stacked = True,\n",
    "                                                                rot = 0,\n",
    "                                                                figsize = (12,7),\n",
    "                                                                color = colors)\n",
    "\n",
    "\n",
    "\n",
    "\n",
    "\n",
    "plt.ylabel('Proportion of Customers\\n',horizontalalignment=\"center\",fontstyle = \"normal\", fontsize = \"large\", fontfamily = \"sans-serif\")\n",
    "plt.xlabel('Contract Type\\n',horizontalalignment=\"center\",fontstyle = \"normal\", fontsize = \"large\", fontfamily = \"sans-serif\")\n",
    "plt.title('Churn Rate by Contract type \\n',horizontalalignment=\"center\", fontstyle = \"normal\", fontsize = \"22\", fontfamily = \"sans-serif\")\n",
    "plt.legend(loc='upper right', fontsize = \"medium\")\n",
    "plt.xticks(rotation=0, horizontalalignment=\"center\")\n",
    "plt.yticks(rotation=0, horizontalalignment=\"right\")\n",
    "ax.yaxis.set_major_formatter(mtick.PercentFormatter())\n",
    "for p in ax.patches:\n",
    "    width, height = p.get_width(), p.get_height()\n",
    "    x, y = p.get_xy()\n",
    "    ax.text(x+width/2,\n",
    "            y+height/2,\n",
    "            '{:.1f}%'.format(height),\n",
    "            horizontalalignment='center',\n",
    "            verticalalignment='center')\n",
    "ax.autoscale(enable=False, axis='both', tight=False)"
   ]
  },
  {
   "cell_type": "code",
   "execution_count": null,
   "metadata": {
    "colab": {
     "base_uri": "https://localhost:8080/"
    },
    "executionInfo": {
     "elapsed": 4,
     "status": "ok",
     "timestamp": 1692720160627,
     "user": {
      "displayName": "Achmad Budi Utomo",
      "userId": "03097595209187156798"
     },
     "user_tz": -420
    },
    "id": "GSJ3h4lEqrBg",
    "outputId": "28c9c880-17fe-4972-94a8-b3d35bc1cd90"
   },
   "outputs": [],
   "source": [
    "dataset[['Contract', 'Churn']].value_counts()"
   ]
  },
  {
   "cell_type": "code",
   "execution_count": null,
   "metadata": {
    "colab": {
     "base_uri": "https://localhost:8080/",
     "height": 709
    },
    "executionInfo": {
     "elapsed": 756,
     "status": "ok",
     "timestamp": 1692720163319,
     "user": {
      "displayName": "Achmad Budi Utomo",
      "userId": "03097595209187156798"
     },
     "user_tz": -420
    },
    "id": "CIBwfdEoDXhD",
    "outputId": "52c59dc1-2f08-4b84-86a7-36f70de9ac72"
   },
   "outputs": [],
   "source": [
    "import matplotlib.ticker as mtick\n",
    "\n",
    "contract_churn = dataset.groupby(['PaymentMethod', 'Churn']).size().unstack()\n",
    "\n",
    "contract_churn.rename(columns={0:'No', 1:'Yes'}, inplace=True)\n",
    "\n",
    "colors  = ['#ec838a','#9b9c9a', '#f3babc' , '#4d4f4c']\n",
    "\n",
    "ax = (contract_churn.T*100.0 / contract_churn.T.sum()).T.plot(kind='bar',\n",
    "                                                                width = 0.3,\n",
    "                                                                stacked = True,\n",
    "                                                                rot = 0,\n",
    "                                                                figsize = (12,7),\n",
    "                                                                color = colors)\n",
    "\n",
    "\n",
    "\n",
    "\n",
    "\n",
    "plt.ylabel('Proportion of Customers\\n',horizontalalignment=\"center\",fontstyle = \"normal\", fontsize = \"large\", fontfamily = \"sans-serif\")\n",
    "plt.xlabel('Payment Method\\n',horizontalalignment=\"center\",fontstyle = \"normal\", fontsize = \"large\", fontfamily = \"sans-serif\")\n",
    "plt.title('Churn Rate by Payment Method \\n',horizontalalignment=\"center\", fontstyle = \"normal\", fontsize = \"22\", fontfamily = \"sans-serif\")\n",
    "plt.legend(loc='upper right', fontsize = \"medium\")\n",
    "plt.xticks(rotation=0, horizontalalignment=\"center\")\n",
    "plt.yticks(rotation=0, horizontalalignment=\"right\")\n",
    "ax.yaxis.set_major_formatter(mtick.PercentFormatter())\n",
    "for p in ax.patches:\n",
    "    width, height = p.get_width(), p.get_height()\n",
    "    x, y = p.get_xy()\n",
    "    ax.text(x+width/2,\n",
    "            y+height/2,\n",
    "            '{:.1f}%'.format(height),\n",
    "            horizontalalignment='center',\n",
    "            verticalalignment='center')\n",
    "ax.autoscale(enable=False, axis='both', tight=False)"
   ]
  },
  {
   "cell_type": "markdown",
   "metadata": {
    "id": "YxhQ-u2XsfNU"
   },
   "source": [
    "# 8. Encode Categorical Data"
   ]
  },
  {
   "cell_type": "code",
   "execution_count": null,
   "metadata": {
    "id": "I0aXpYjND7pU"
   },
   "outputs": [],
   "source": [
    "#Step 8: Encode Categorical data----------------------------------------------------------------\n",
    "\n",
    "#Incase if user_id is an object:\n",
    "\n",
    "identity = dataset[\"customerID\"]\n",
    "\n",
    "dataset = dataset.drop(columns=\"customerID\")\n",
    "\n",
    "# convert rest of categorical variable into dummy\n",
    "\n",
    "dataset= pd.get_dummies(dataset)\n",
    "\n",
    "# Rejoin userid to dataset (column concatenation)\n",
    "\n",
    "dataset = pd.concat([dataset, identity], axis = 1)\n"
   ]
  },
  {
   "cell_type": "code",
   "execution_count": null,
   "metadata": {
    "colab": {
     "base_uri": "https://localhost:8080/"
    },
    "executionInfo": {
     "elapsed": 2,
     "status": "ok",
     "timestamp": 1692720167597,
     "user": {
      "displayName": "Achmad Budi Utomo",
      "userId": "03097595209187156798"
     },
     "user_tz": -420
    },
    "id": "ihc6jkK5xe1z",
    "outputId": "9fd91e73-dd13-436f-de7f-614f0b5b2db0"
   },
   "outputs": [],
   "source": [
    "dataset.shape"
   ]
  },
  {
   "cell_type": "code",
   "execution_count": null,
   "metadata": {
    "colab": {
     "base_uri": "https://localhost:8080/",
     "height": 634
    },
    "executionInfo": {
     "elapsed": 6,
     "status": "ok",
     "timestamp": 1692720175962,
     "user": {
      "displayName": "Achmad Budi Utomo",
      "userId": "03097595209187156798"
     },
     "user_tz": -420
    },
    "id": "Ihy65i8M_ANA",
    "outputId": "555c4310-e603-4c18-a590-bde85aaf192a"
   },
   "outputs": [],
   "source": [
    "dataset"
   ]
  },
  {
   "cell_type": "code",
   "execution_count": null,
   "metadata": {
    "colab": {
     "base_uri": "https://localhost:8080/"
    },
    "executionInfo": {
     "elapsed": 3,
     "status": "ok",
     "timestamp": 1692720297325,
     "user": {
      "displayName": "Achmad Budi Utomo",
      "userId": "03097595209187156798"
     },
     "user_tz": -420
    },
    "id": "YEjG9h6e_XZE",
    "outputId": "f9ee26a9-5d3a-4f6e-8aed-cd77cacdc780"
   },
   "outputs": [],
   "source": [
    "dataset.iloc[0]"
   ]
  },
  {
   "cell_type": "markdown",
   "metadata": {
    "id": "zlE5uR18silE"
   },
   "source": [
    "# 9. Split Dataset into Dependent and Independent Variables"
   ]
  },
  {
   "cell_type": "code",
   "execution_count": null,
   "metadata": {
    "id": "OWRmGI0fD_Ax"
   },
   "outputs": [],
   "source": [
    "#Step 9: Split dataset into dependent and independent variables-----------------------------------\n",
    "\n",
    "#identify response variable:\n",
    "\n",
    "response = dataset[\"Churn\"]\n",
    "\n",
    "dataset = dataset.drop(columns=\"Churn\")"
   ]
  },
  {
   "cell_type": "markdown",
   "metadata": {
    "id": "Iu_FGudRtA_y"
   },
   "source": [
    "# 10. Generate training and test datasets of dependent and independent variables\n"
   ]
  },
  {
   "cell_type": "code",
   "execution_count": null,
   "metadata": {
    "colab": {
     "base_uri": "https://localhost:8080/"
    },
    "executionInfo": {
     "elapsed": 327,
     "status": "ok",
     "timestamp": 1692720465693,
     "user": {
      "displayName": "Achmad Budi Utomo",
      "userId": "03097595209187156798"
     },
     "user_tz": -420
    },
    "id": "NWIGP2NOD_d2",
    "outputId": "62252a11-bcf6-4f93-f09d-cb9a4f437b5d"
   },
   "outputs": [],
   "source": [
    "#Step 10: Generate training and test datasets of dependent and independent variables-----------------\n",
    "\n",
    "\n",
    "X_train, X_test, y_train, y_test = train_test_split(dataset, response,\n",
    "                                                    stratify=response,\n",
    "                                                    test_size = 0.2, #use 0.1 if data is huge.\n",
    "                                                    random_state = 0)\n",
    "\n",
    "#to resolve any class imbalance - use stratify parameter.\n",
    "\n",
    "print(\"Number transactions X_train dataset: \", X_train.shape)\n",
    "print(\"Number transactions y_train dataset: \", y_train.shape)\n",
    "print(\"Number transactions X_test dataset: \", X_test.shape)\n",
    "print(\"Number transactions y_test dataset: \", y_test.shape)"
   ]
  },
  {
   "cell_type": "markdown",
   "metadata": {
    "id": "-eVYhohBtXVl"
   },
   "source": [
    "# 11. Removing Identifiers"
   ]
  },
  {
   "cell_type": "code",
   "execution_count": null,
   "metadata": {
    "id": "j3tu0NtxEAoi"
   },
   "outputs": [],
   "source": [
    "# Step 11: Removing Identifiers-------------------------------------------------------------------\n",
    "\n",
    "train_identity = X_train['customerID']\n",
    "X_train = X_train.drop(columns = ['customerID'])\n",
    "\n",
    "test_identity = X_test['customerID']\n",
    "X_test = X_test.drop(columns = ['customerID'])"
   ]
  },
  {
   "cell_type": "markdown",
   "metadata": {
    "id": "9ISrL1TXtfKV"
   },
   "source": [
    "# 12. Feature Scaling"
   ]
  },
  {
   "cell_type": "code",
   "execution_count": null,
   "metadata": {
    "id": "a6VUFr_cEBxe"
   },
   "outputs": [],
   "source": [
    "# Step 12: Feature Scaling-----------------------------------------------------------------------\n",
    "\n",
    "sc_X = StandardScaler()\n",
    "X_train2 = pd.DataFrame(sc_X.fit_transform(X_train))\n",
    "X_train2.columns = X_train.columns.values\n",
    "X_train2.index = X_train.index.values\n",
    "X_train = X_train2\n",
    "\n",
    "X_test2 = pd.DataFrame(sc_X.transform(X_test))\n",
    "X_test2.columns = X_test.columns.values\n",
    "X_test2.index = X_test.index.values\n",
    "X_test = X_test2"
   ]
  },
  {
   "cell_type": "markdown",
   "metadata": {
    "id": "R3OhIGf1EFv5"
   },
   "source": [
    "# 13. Model Selection"
   ]
  },
  {
   "cell_type": "code",
   "execution_count": null,
   "metadata": {
    "colab": {
     "base_uri": "https://localhost:8080/",
     "height": 143
    },
    "executionInfo": {
     "elapsed": 20165,
     "status": "ok",
     "timestamp": 1692720507695,
     "user": {
      "displayName": "Achmad Budi Utomo",
      "userId": "03097595209187156798"
     },
     "user_tz": -420
    },
    "id": "GJJ7n4VPEGys",
    "outputId": "b8209480-6d12-46a9-b53b-208621c6e154"
   },
   "outputs": [],
   "source": [
    "#Step 13.1: Compare Baseline Classification Algorithms - First Iteration\n",
    "#Using Accuracy and ROC AUC Mean Metrics\n",
    "# models.append(('SVC', SVC(kernel = 'linear', random_state = 0)))\n",
    "# models.append(('Kernel SVM', SVC(kernel = 'rbf', random_state = 0)))\n",
    "# models.append(('KNN', KNeighborsClassifier(n_neighbors = 5, metric = 'minkowski', p = 2)))\n",
    "# models.append(('Gaussian NB', GaussianNB()))\n",
    "\n",
    "models = []\n",
    "\n",
    "models.append(('Logistic Regression', LogisticRegression(solver='liblinear', random_state = 0,\n",
    "                                                         class_weight='balanced')))\n",
    "\n",
    "models.append(('Decision Tree Classifier',\n",
    "               DecisionTreeClassifier(criterion = 'entropy', random_state = 0)))\n",
    "\n",
    "\n",
    "models.append(('Random Forest', RandomForestClassifier(\n",
    "    n_estimators=100, criterion = 'entropy', random_state = 0)))\n",
    "\n",
    "#Evaluating Model Results:\n",
    "\n",
    "acc_results = []\n",
    "auc_results = []\n",
    "names = []\n",
    "# set table to table to populate with performance results\n",
    "col = ['Algorithm', 'ROC AUC Mean', 'ROC AUC STD',\n",
    "       'Accuracy Mean', 'Accuracy STD']\n",
    "\n",
    "model_results = pd.DataFrame(columns=col)\n",
    "i = 0\n",
    "# evaluate each model using k-fold cross-validation\n",
    "for name, model in models:\n",
    "    kfold = model_selection.KFold(\n",
    "        n_splits=10)  # 10-fold cross-validation\n",
    "\n",
    "    cv_acc_results = model_selection.cross_val_score(  # accuracy scoring\n",
    "        model, X_train, y_train, cv=kfold, scoring='accuracy')\n",
    "\n",
    "    cv_auc_results = model_selection.cross_val_score(  # roc_auc scoring\n",
    "        model, X_train, y_train, cv=kfold, scoring='roc_auc')\n",
    "\n",
    "    acc_results.append(cv_acc_results)\n",
    "    auc_results.append(cv_auc_results)\n",
    "    names.append(name)\n",
    "    model_results.loc[i] = [name,\n",
    "                         round(cv_auc_results.mean()*100, 2),\n",
    "                         round(cv_auc_results.std()*100, 2),\n",
    "                         round(cv_acc_results.mean()*100, 2),\n",
    "                         round(cv_acc_results.std()*100, 2)\n",
    "                         ]\n",
    "    i += 1\n",
    "\n",
    "model_results.sort_values(by=['ROC AUC Mean'], ascending=False)"
   ]
  },
  {
   "cell_type": "code",
   "execution_count": null,
   "metadata": {
    "colab": {
     "base_uri": "https://localhost:8080/",
     "height": 664
    },
    "executionInfo": {
     "elapsed": 549,
     "status": "ok",
     "timestamp": 1692720508239,
     "user": {
      "displayName": "Achmad Budi Utomo",
      "userId": "03097595209187156798"
     },
     "user_tz": -420
    },
    "id": "Gi7J_lWDEJFn",
    "outputId": "374a92a4-10fd-405e-fff9-76e87a37b9eb"
   },
   "outputs": [],
   "source": [
    "#Step 13.2.  Visualize Classification Algorithms Accuracy Comparisons:-----------------------------------\n",
    "#Using Accuracy Mean:\n",
    "\n",
    "fig = plt.figure(figsize=(15, 7))\n",
    "ax = fig.add_subplot(111)\n",
    "plt.boxplot(acc_results)\n",
    "ax.set_xticklabels(names)\n",
    "\n",
    "\n",
    "#plt.ylabel('ROC AUC Score\\n',horizontalalignment=\"center\",fontstyle = \"normal\", fontsize = \"large\", fontfamily = \"sans-serif\")\n",
    "#plt.xlabel('\\n Baseline Classification Algorithms\\n',horizontalalignment=\"center\",fontstyle = \"normal\", fontsize = \"large\", fontfamily = \"sans-serif\")\n",
    "plt.title('Accuracy Score Comparison \\n',horizontalalignment=\"center\", fontstyle = \"normal\", fontsize = \"22\", fontfamily = \"sans-serif\")\n",
    "#plt.legend(loc='top right', fontsize = \"medium\")\n",
    "plt.xticks(rotation=0, horizontalalignment=\"center\")\n",
    "plt.yticks(rotation=0, horizontalalignment=\"right\")\n",
    "\n",
    "\n",
    "plt.show()"
   ]
  },
  {
   "cell_type": "code",
   "execution_count": null,
   "metadata": {
    "colab": {
     "base_uri": "https://localhost:8080/",
     "height": 664
    },
    "executionInfo": {
     "elapsed": 4,
     "status": "ok",
     "timestamp": 1692720508239,
     "user": {
      "displayName": "Achmad Budi Utomo",
      "userId": "03097595209187156798"
     },
     "user_tz": -420
    },
    "id": "pSOBtmzcV8Uy",
    "outputId": "7e016083-41a1-4fd9-d345-02ff54f680f3"
   },
   "outputs": [],
   "source": [
    "#using Area under ROC Curve:\n",
    "\n",
    "fig = plt.figure(figsize=(15, 7))\n",
    "ax = fig.add_subplot(111)\n",
    "plt.boxplot(auc_results)\n",
    "ax.set_xticklabels(names)\n",
    "\n",
    "\n",
    "#plt.ylabel('ROC AUC Score\\n',horizontalalignment=\"center\",fontstyle = \"normal\", fontsize = \"large\", fontfamily = \"sans-serif\")\n",
    "#plt.xlabel('\\n Baseline Classification Algorithms\\n',horizontalalignment=\"center\",fontstyle = \"normal\", fontsize = \"large\", fontfamily = \"sans-serif\")\n",
    "plt.title('ROC AUC Comparison \\n',horizontalalignment=\"center\", fontstyle = \"normal\", fontsize = \"22\", fontfamily = \"sans-serif\")\n",
    "#plt.legend(loc='top right', fontsize = \"medium\")\n",
    "plt.xticks(rotation=0, horizontalalignment=\"center\")\n",
    "plt.yticks(rotation=0, horizontalalignment=\"right\")\n",
    "\n",
    "\n",
    "plt.show()"
   ]
  },
  {
   "cell_type": "code",
   "execution_count": null,
   "metadata": {
    "colab": {
     "base_uri": "https://localhost:8080/"
    },
    "executionInfo": {
     "elapsed": 1318,
     "status": "ok",
     "timestamp": 1692720509554,
     "user": {
      "displayName": "Achmad Budi Utomo",
      "userId": "03097595209187156798"
     },
     "user_tz": -420
    },
    "id": "iAIF6TiSXPZU",
    "outputId": "893e60ad-9471-4ed2-e00f-4e7df4cba930"
   },
   "outputs": [],
   "source": [
    "#Step 13.4. Compare Baseline Classification Algorithms - Second Iteration-----------------------------\n",
    "#--Step 13.4.1. Logistic Regression-----------------\n",
    "\n",
    "# Fitting Logistic Regression to the Training set\n",
    "classifier = LogisticRegression(random_state = 0)\n",
    "classifier.fit(X_train, y_train)\n",
    "\n",
    "# Predicting the Test set results\n",
    "y_pred = classifier.predict(X_test)\n",
    "\n",
    "#Evaluate results\n",
    "\n",
    "acc = accuracy_score(y_test, y_pred )\n",
    "prec = precision_score(y_test, y_pred )\n",
    "rec = recall_score(y_test, y_pred )\n",
    "f1 = f1_score(y_test, y_pred )\n",
    "f2 = fbeta_score(y_test, y_pred, beta=2.0)\n",
    "roc_auc = roc_auc_score(y_test, y_pred)\n",
    "\n",
    "results = pd.DataFrame([['Logistic Regression', acc, prec, rec, f1, f2, roc_auc]],\n",
    "               columns = ['Model', 'Accuracy', 'Precision', 'Recall', 'F1 Score', 'F2 Score', 'ROC-AUC'])\n",
    "\n",
    "#Step 13.4.6. Decision Tree---------------------------------------------\n",
    "\n",
    "\n",
    "# Fitting Decision Tree to the Training set:\n",
    "\n",
    "classifier = DecisionTreeClassifier(criterion = 'entropy', random_state = 0)\n",
    "classifier.fit(X_train, y_train)\n",
    "\n",
    "\n",
    "# Predicting the Test set results\n",
    "y_pred = classifier.predict(X_test)\n",
    "\n",
    "#Evaluate results\n",
    "acc = accuracy_score(y_test, y_pred )\n",
    "prec = precision_score(y_test, y_pred )\n",
    "rec = recall_score(y_test, y_pred )\n",
    "f1 = f1_score(y_test, y_pred )\n",
    "f2 = fbeta_score(y_test, y_pred, beta=2.0)\n",
    "roc_auc = roc_auc_score(y_test, y_pred)\n",
    "\n",
    "model_results = pd.DataFrame([['Decision Tree', acc, prec, rec, f1, f2, roc_auc]],\n",
    "               columns = ['Model', 'Accuracy', 'Precision', 'Recall', 'F1 Score', 'F2 Score', 'ROC-AUC'])\n",
    "\n",
    "results = results.append(model_results, ignore_index = True)\n",
    "\n",
    "\n",
    "#Step 13.4.7. Random Forest--------------------------------------------\n",
    "\n",
    "\n",
    "# Fitting Random Forest to the Training set:\n",
    "\n",
    "classifier = RandomForestClassifier(n_estimators = 72, criterion = 'entropy', random_state = 0)\n",
    "classifier.fit(X_train, y_train)\n",
    "\n",
    "\n",
    "\n",
    "# Predicting the Test set results\n",
    "y_pred = classifier.predict(X_test)\n",
    "\n",
    "#Evaluate results\n",
    "\n",
    "from sklearn.metrics import confusion_matrix, accuracy_score, f1_score, precision_score, recall_score\n",
    "acc = accuracy_score(y_test, y_pred )\n",
    "prec = precision_score(y_test, y_pred )\n",
    "rec = recall_score(y_test, y_pred )\n",
    "f1 = f1_score(y_test, y_pred )\n",
    "f2 = fbeta_score(y_test, y_pred, beta=2.0)\n",
    "roc_auc = roc_auc_score(y_test, y_pred)\n",
    "\n",
    "model_results = pd.DataFrame([['Random Forest', acc, prec, rec, f1, f2, roc_auc]],\n",
    "               columns = ['Model', 'Accuracy', 'Precision', 'Recall', 'F1 Score', 'F2 Score', 'ROC-AUC'])\n",
    "\n",
    "results = results.append(model_results, ignore_index = True)"
   ]
  },
  {
   "cell_type": "code",
   "execution_count": null,
   "metadata": {
    "colab": {
     "base_uri": "https://localhost:8080/"
    },
    "executionInfo": {
     "elapsed": 8,
     "status": "ok",
     "timestamp": 1692720509554,
     "user": {
      "displayName": "Achmad Budi Utomo",
      "userId": "03097595209187156798"
     },
     "user_tz": -420
    },
    "id": "zrdVwRn1Xmvu",
    "outputId": "946b2a0d-6f32-4cad-e5c0-358f15b7d7ec"
   },
   "outputs": [],
   "source": [
    "\n",
    "#Step 13.5. Visualize the results and compare the baseline algorithms----------------------------------\n",
    "\n",
    "# =======================================================================================================================\n",
    "#Sort results based on the right classification metric:\n",
    "#(Accuracy/ROC_AUC / Precision/Recall/F1/F2 scores)\n",
    "\n",
    "#Since we have class imbalance. When we look into the business challenge,\n",
    "# our false negatives will be costly and hence we need to Keep an eye onto the Precision, Recall & F2 score besides accuracy\n",
    "# =======================================================================================================================\n",
    "\n",
    "results = results.sort_values([\"Precision\", \"Recall\", \"F2 Score\"], ascending = False)\n",
    "\n",
    "\n",
    "print (results)"
   ]
  },
  {
   "cell_type": "markdown",
   "metadata": {
    "id": "3UGgMkYvzEO4"
   },
   "source": [
    "# 14. Train & Evaluate Chosen Model"
   ]
  },
  {
   "cell_type": "code",
   "execution_count": null,
   "metadata": {
    "id": "lMuMOJ9KX5V0"
   },
   "outputs": [],
   "source": [
    "\n",
    "#Step 14: Train & evaluate Chosen Model---------------------------------------------\n",
    "# Fit Logistic Regression on the Training dataset:\n",
    "\n",
    "classifier = LogisticRegression(random_state = 0, penalty = 'l2')\n",
    "classifier.fit(X_train, y_train)\n",
    "\n",
    "# Predict the Test set results\n",
    "\n",
    "y_pred = classifier.predict(X_test)"
   ]
  },
  {
   "cell_type": "code",
   "execution_count": null,
   "metadata": {
    "colab": {
     "base_uri": "https://localhost:8080/"
    },
    "executionInfo": {
     "elapsed": 5,
     "status": "ok",
     "timestamp": 1692720509554,
     "user": {
      "displayName": "Achmad Budi Utomo",
      "userId": "03097595209187156798"
     },
     "user_tz": -420
    },
    "id": "f4dTHM1Sxe13",
    "outputId": "0c92d472-ebf0-4ac0-ef16-34f6bba7e121"
   },
   "outputs": [],
   "source": [
    "y_test.value_counts()"
   ]
  },
  {
   "cell_type": "code",
   "execution_count": null,
   "metadata": {
    "colab": {
     "base_uri": "https://localhost:8080/"
    },
    "executionInfo": {
     "elapsed": 3,
     "status": "ok",
     "timestamp": 1692720509554,
     "user": {
      "displayName": "Achmad Budi Utomo",
      "userId": "03097595209187156798"
     },
     "user_tz": -420
    },
    "id": "8fGnOPF_xe13",
    "outputId": "05c2f7f6-c4f0-4f60-f3ff-4606f7eb523b"
   },
   "outputs": [],
   "source": [
    "pd.DataFrame(y_pred)[0].value_counts()"
   ]
  },
  {
   "cell_type": "code",
   "execution_count": null,
   "metadata": {
    "colab": {
     "base_uri": "https://localhost:8080/",
     "height": 466
    },
    "executionInfo": {
     "elapsed": 527,
     "status": "ok",
     "timestamp": 1692720510079,
     "user": {
      "displayName": "Achmad Budi Utomo",
      "userId": "03097595209187156798"
     },
     "user_tz": -420
    },
    "id": "teDokaAnxe14",
    "outputId": "088fc84a-d337-4798-a21b-ea0532191f3d"
   },
   "outputs": [],
   "source": [
    "cm = confusion_matrix(y_test, y_pred)\n",
    "\n",
    "cm_display = metrics.ConfusionMatrixDisplay(confusion_matrix = cm, display_labels = [False, True])\n",
    "cm_display.plot()"
   ]
  },
  {
   "cell_type": "code",
   "execution_count": null,
   "metadata": {
    "colab": {
     "base_uri": "https://localhost:8080/"
    },
    "executionInfo": {
     "elapsed": 7,
     "status": "ok",
     "timestamp": 1692720510079,
     "user": {
      "displayName": "Achmad Budi Utomo",
      "userId": "03097595209187156798"
     },
     "user_tz": -420
    },
    "id": "gbh5ICVZxe14",
    "outputId": "77cf588c-ef91-439a-a807-5accae7bf623"
   },
   "outputs": [],
   "source": [
    "#Evaluate Model Results on Test Set:\n",
    "\n",
    "acc = accuracy_score(y_test, y_pred )\n",
    "prec = precision_score(y_test, y_pred )\n",
    "rec = recall_score(y_test, y_pred )\n",
    "f1 = f1_score(y_test, y_pred )\n",
    "f2 = fbeta_score(y_test, y_pred, beta=2.0)\n",
    "roc_auc = roc_auc_score(y_test, y_pred)\n",
    "\n",
    "results = pd.DataFrame([['Logistic Regression', acc, prec, rec, f1, f2, roc_auc]],\n",
    "               columns = ['Model', 'Accuracy', 'Precision', 'Recall', 'F1 Score', 'F2 Score', 'ROC AUC '])\n",
    "\n",
    "print (results)"
   ]
  },
  {
   "cell_type": "code",
   "execution_count": null,
   "metadata": {
    "colab": {
     "base_uri": "https://localhost:8080/",
     "height": 639
    },
    "executionInfo": {
     "elapsed": 5,
     "status": "ok",
     "timestamp": 1692720510079,
     "user": {
      "displayName": "Achmad Budi Utomo",
      "userId": "03097595209187156798"
     },
     "user_tz": -420
    },
    "id": "mIVrv75cX9un",
    "outputId": "54e30004-ca99-439d-fa49-70ed1f7da5eb"
   },
   "outputs": [],
   "source": [
    "# Evaluate the model using ROC Graph\n",
    "\n",
    "classifier.fit(X_train, y_train)\n",
    "probs = classifier.predict_proba(X_test)\n",
    "probs = probs[:, 1]\n",
    "classifier_roc_auc = roc_auc_score(y_test, y_pred )\n",
    "\n",
    "\n",
    "rf_fpr, rf_tpr, rf_thresholds = roc_curve(y_test, classifier.predict_proba(X_test)[:,1])\n",
    "plt.figure(figsize=(14, 6))\n",
    "\n",
    "# Plot Logistic Regression ROC\n",
    "plt.plot(rf_fpr, rf_tpr, label='Logistic Regression (area = %0.2f)' % classifier_roc_auc)\n",
    "# Plot Base Rate ROC\n",
    "plt.plot([0,1], [0,1],label='Base Rate')\n",
    "\n",
    "plt.xlim([0.0, 1.0])\n",
    "plt.ylim([0.0, 1.05])\n",
    "\n",
    "\n",
    "\n",
    "plt.ylabel('True Positive Rate \\n',horizontalalignment=\"center\",fontstyle = \"normal\", fontsize = \"medium\", fontfamily = \"sans-serif\")\n",
    "plt.xlabel('\\nFalse Positive Rate \\n',horizontalalignment=\"center\",fontstyle = \"normal\", fontsize = \"medium\", fontfamily = \"sans-serif\")\n",
    "plt.title('ROC Graph \\n',horizontalalignment=\"center\", fontstyle = \"normal\", fontsize = \"22\", fontfamily = \"sans-serif\")\n",
    "plt.legend(loc=\"lower right\", fontsize = \"medium\")\n",
    "plt.xticks(rotation=0, horizontalalignment=\"center\")\n",
    "plt.yticks(rotation=0, horizontalalignment=\"right\")\n",
    "\n",
    "\n",
    "\n",
    "plt.show()\n"
   ]
  },
  {
   "cell_type": "markdown",
   "metadata": {
    "id": "NBPritImxe14"
   },
   "source": [
    "# Coba Prediksi Data Baru"
   ]
  },
  {
   "cell_type": "markdown",
   "metadata": {
    "id": "hkt4SL9Exe14"
   },
   "source": [
    "<strong>[Soal Tambahan: 10 POIN]</strong>\\\n",
    "\\\n",
    "Dengan model Logistic Regression yang sudah kita dapatkan di atas, berikan contoh pengaplikasian model untuk memprediksi SATU BARIS data baru pelanggan. Diberikan nilai untuk setiap variabel originalnya, gunakan model untuk memprediksi apakah pelanggan tersebut bakal berhenti berlangganan atau tidak."
   ]
  },
  {
   "cell_type": "markdown",
   "metadata": {
    "id": "ZNZ40Whnxe14"
   },
   "source": [
    "NOTE: Original Columns: ['customerID', 'gender', 'SeniorCitizen', 'Partner', 'Dependents',\n",
    "       'tenure', 'PhoneService', 'MultipleLines', 'InternetService',\n",
    "       'OnlineSecurity', 'OnlineBackup', 'DeviceProtection', 'TechSupport',\n",
    "       'StreamingTV', 'StreamingMovies', 'Contract', 'PaperlessBilling',\n",
    "       'PaymentMethod', 'MonthlyCharges', 'TotalCharges', 'Churn']"
   ]
  },
  {
   "cell_type": "code",
   "execution_count": null,
   "metadata": {
    "colab": {
     "base_uri": "https://localhost:8080/",
     "height": 634
    },
    "executionInfo": {
     "elapsed": 315,
     "status": "ok",
     "timestamp": 1692720833094,
     "user": {
      "displayName": "Achmad Budi Utomo",
      "userId": "03097595209187156798"
     },
     "user_tz": -420
    },
    "id": "kid-D-S_Bghz",
    "outputId": "b838fde7-712f-4c10-8d70-74658ab07b1c"
   },
   "outputs": [],
   "source": [
    "dataset"
   ]
  },
  {
   "cell_type": "code",
   "execution_count": null,
   "metadata": {
    "id": "jMXUxku5xe14"
   },
   "outputs": [],
   "source": [
    "# Tuliskan kode program di bawah ini .... Happy Programming :)\n",
    "# data_baru = {'customerID': '7590-ABCDE',\n",
    "#             'gender': 'Male',\n",
    "#             'SeniorCitizen': 0,\n",
    "#             'Partner': 'Yes',\n",
    "#             'Dependents': 'Yes',\n",
    "#             'tenure': 1,\n",
    "#             'PhoneService': 'No',\n",
    "#             'MultipleLines': 'Fiber optic',\n",
    "#             'InternetService': 'Yes',\n",
    "#             'OnlineSecurity': 'Yes',\n",
    "#             'OnlineBackup': 'Yes',\n",
    "#             'DeviceProtection': 'Yes',\n",
    "#             'TechSupport': 'Yes',\n",
    "#             'StreamingTV': 'Yes',\n",
    "#             'StreamingMovies': 'Yes',\n",
    "#             'Contract': 'Month-to-month',\n",
    "#             'PaperlessBilling': 'Yes',\n",
    "#             'PaymentMethod': 'Bank transfer (automatic)',\n",
    "#             'MonthlyCharges': 3000,\n",
    "#             'TotalCharges': '3000'\n",
    "#             }"
   ]
  },
  {
   "cell_type": "markdown",
   "metadata": {
    "id": "V8a_qY-8CN7y"
   },
   "source": [
    "# **Tidak bisa menggunakan data baru diatas, karena perlu menggunakan one-hot encoder dimana yang tidak ada categorical tidak bisa mendapatkan data seperti dibawah, sedangkat model membutuhkan data seperti dibawah**"
   ]
  },
  {
   "cell_type": "code",
   "execution_count": null,
   "metadata": {
    "colab": {
     "base_uri": "https://localhost:8080/"
    },
    "executionInfo": {
     "elapsed": 312,
     "status": "ok",
     "timestamp": 1692720344271,
     "user": {
      "displayName": "Achmad Budi Utomo",
      "userId": "03097595209187156798"
     },
     "user_tz": -420
    },
    "id": "J08FkcNy_jsw",
    "outputId": "e99ff40c-6819-45a2-b19d-b0e383bca339"
   },
   "outputs": [],
   "source": [
    "data_baru2 = dataset.iloc[0]\n",
    "data_baru2"
   ]
  },
  {
   "cell_type": "code",
   "execution_count": null,
   "metadata": {
    "colab": {
     "base_uri": "https://localhost:8080/"
    },
    "executionInfo": {
     "elapsed": 5,
     "status": "ok",
     "timestamp": 1692720424607,
     "user": {
      "displayName": "Achmad Budi Utomo",
      "userId": "03097595209187156798"
     },
     "user_tz": -420
    },
    "id": "geDN24dQ_665",
    "outputId": "92f87023-10dc-45b9-bb91-7fb47415ae9d"
   },
   "outputs": [],
   "source": [
    "data_baru2 = data_baru2.drop(columns=\"Churn\")\n",
    "data_baru2"
   ]
  },
  {
   "cell_type": "code",
   "execution_count": null,
   "metadata": {
    "colab": {
     "base_uri": "https://localhost:8080/",
     "height": 152
    },
    "executionInfo": {
     "elapsed": 524,
     "status": "ok",
     "timestamp": 1692720635699,
     "user": {
      "displayName": "Achmad Budi Utomo",
      "userId": "03097595209187156798"
     },
     "user_tz": -420
    },
    "id": "a2bNbOI82uSl",
    "outputId": "90273901-0e00-45bd-ad5f-756bdcb5018e"
   },
   "outputs": [],
   "source": [
    "data_baru3 = pd.DataFrame([data_baru2])\n",
    "data_baru3"
   ]
  },
  {
   "cell_type": "code",
   "execution_count": null,
   "metadata": {
    "colab": {
     "base_uri": "https://localhost:8080/",
     "height": 356
    },
    "executionInfo": {
     "elapsed": 310,
     "status": "error",
     "timestamp": 1692720698930,
     "user": {
      "displayName": "Achmad Budi Utomo",
      "userId": "03097595209187156798"
     },
     "user_tz": -420
    },
    "id": "mhK_jMrd7CpR",
    "outputId": "ddee48df-2577-447f-e4e1-02b360b0612c"
   },
   "outputs": [],
   "source": [
    "# data_baru3 = data_baru3.drop('customerID', axis=1)\n",
    "# data_baru3 = data_baru3.drop('Churn', axis=1)\n",
    "# data_baru3"
   ]
  },
  {
   "cell_type": "code",
   "execution_count": null,
   "metadata": {
    "colab": {
     "base_uri": "https://localhost:8080/",
     "height": 135
    },
    "executionInfo": {
     "elapsed": 407,
     "status": "ok",
     "timestamp": 1692720721187,
     "user": {
      "displayName": "Achmad Budi Utomo",
      "userId": "03097595209187156798"
     },
     "user_tz": -420
    },
    "id": "OEo1aYVeBF0H",
    "outputId": "766bc64d-7192-41de-e663-0de2fe867b12"
   },
   "outputs": [],
   "source": [
    "data_baru3 = data_baru3.drop('Churn', axis=1)\n",
    "data_baru3"
   ]
  },
  {
   "cell_type": "code",
   "execution_count": null,
   "metadata": {
    "id": "e8x91LPf6ZH0"
   },
   "outputs": [],
   "source": [
    "y_pred1 = classifier.predict(data_baru3)"
   ]
  },
  {
   "cell_type": "code",
   "execution_count": null,
   "metadata": {
    "colab": {
     "base_uri": "https://localhost:8080/"
    },
    "executionInfo": {
     "elapsed": 2,
     "status": "ok",
     "timestamp": 1692720736369,
     "user": {
      "displayName": "Achmad Budi Utomo",
      "userId": "03097595209187156798"
     },
     "user_tz": -420
    },
    "id": "GvDFchVGBJF7",
    "outputId": "72d25842-3634-47d8-8103-8cb4f7ae34af"
   },
   "outputs": [],
   "source": [
    "y_pred1"
   ]
  }
 ],
 "metadata": {
  "colab": {
   "provenance": []
  },
  "kernelspec": {
   "display_name": "Python 3 (ipykernel)",
   "language": "python",
   "name": "python3"
  },
  "language_info": {
   "codemirror_mode": {
    "name": "ipython",
    "version": 3
   },
   "file_extension": ".py",
   "mimetype": "text/x-python",
   "name": "python",
   "nbconvert_exporter": "python",
   "pygments_lexer": "ipython3",
   "version": "3.11.4"
  }
 },
 "nbformat": 4,
 "nbformat_minor": 1
}
